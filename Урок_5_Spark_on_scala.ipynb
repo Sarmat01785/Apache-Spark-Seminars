{
 "cells": [
  {
   "cell_type": "markdown",
   "metadata": {},
   "source": [
    "# Spark Apache (семинары)\n",
    "\n",
    "## Урок 5. Spark on scala\n",
    "\n",
    "Условие: создайте csv файл с таким содержимым:\n",
    "\n",
    "title,author,genre,sales,year\n",
    "\n",
    "\"1984\", \"George Orwell\", \"Science Fiction\", 5000, 1949\n",
    "\n",
    "\"The Lord of the Rings\", \"J.R.R. Tolkien\", \"Fantasy\", 3000, 1954\n",
    "\n",
    "\"To Kill a Mockingbird\", \"Harper Lee\", \"Southern Gothic\", 4000, 1960\n",
    "\n",
    "\"The Catcher in the Rye\", \"J.D. Salinger\", \"Novel\", 2000, 1951\n",
    "\n",
    "\"The Great Gatsby\", \"F. Scott Fitzgerald\", \"Novel\", 4500, 1925\n",
    "\n",
    "Задание:\n",
    "\n",
    "- Используя Spark прочитайте данные из файла csv.\n",
    "\n",
    "- Фильтруйте данные, чтобы оставить только книги, продажи которых превышают 3000 экземпляров.\n",
    "\n",
    "- Сгруппируйте данные по жанру и вычислите общий объем продаж для каждого жанра.\n",
    "\n",
    "- Отсортируйте данные по общему объему продаж в порядке убывания.\n",
    "\n",
    "- Выведите результаты на экран."
   ]
  }
 ],
 "metadata": {
  "language_info": {
   "name": "python"
  }
 },
 "nbformat": 4,
 "nbformat_minor": 2
}
