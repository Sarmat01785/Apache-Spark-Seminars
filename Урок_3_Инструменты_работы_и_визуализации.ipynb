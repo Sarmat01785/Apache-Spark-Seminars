{
 "cells": [
  {
   "cell_type": "markdown",
   "metadata": {},
   "source": [
    "# Spark Apache семинары\n",
    "\n",
    "## Урок 3. Инструменты работы и визуализации ч.2\n",
    "\n",
    "### Задача:\n",
    "\n",
    "Условие: есть набор данных о продажах продуктов с информацией о дате продаж, категории продукта, количестве и выручке от продаж.\n",
    "\n",
    "Используя Apache Spark, загрузите предоставленный набор данных в DataFrame (пример данных ниже).\n",
    "\n",
    "(\"2023-11-20\", \"Electronics\", 100, 12000),\n",
    "\n",
    "(\"2023-11-21\", \"Electronics\", 110, 13000),\n",
    "\n",
    "(\"2023-11-22\", \"Electronics\", 105, 12500),\n",
    "\n",
    "(\"2023-11-20\", \"Clothing\", 300, 15000),\n",
    "\n",
    "(\"2023-11-21\", \"Clothing\", 280, 14000),\n",
    "\n",
    "(\"2023-11-22\", \"Clothing\", 320, 16000),\n",
    "\n",
    "(\"2023-11-20\", \"Books\", 150, 9000),\n",
    "\n",
    "(\"2023-11-21\", \"Books\", 200, 12000),\n",
    "\n",
    "(\"2023-11-22\", \"Books\", 180, 10000)\n",
    "\n",
    "Столбцы: \"date\", \"category\", \"quantity\", \"revenue\".\n",
    "\n",
    "С использованием оконных функций, рассчитайте среднее выручки от продаж для каждой категории продукта.\n",
    "Примените операцию `pivot` для того, чтобы преобразовать полученные данные таким образом, чтобы в качестве строк были категории продуктов, в качестве столбцов были дни, а значениями были средние значения выручки от продаж за соответствующий день"
   ]
  },
  {
   "cell_type": "code",
   "execution_count": 4,
   "metadata": {},
   "outputs": [],
   "source": [
    "import init_spark_env"
   ]
  },
  {
   "cell_type": "code",
   "execution_count": 3,
   "metadata": {},
   "outputs": [],
   "source": [
    "from pyspark.sql import SparkSession"
   ]
  },
  {
   "cell_type": "code",
   "execution_count": 5,
   "metadata": {},
   "outputs": [
    {
     "name": "stderr",
     "output_type": "stream",
     "text": [
      "Setting default log level to \"WARN\".\n",
      "To adjust logging level use sc.setLogLevel(newLevel). For SparkR, use setLogLevel(newLevel).\n",
      "24/10/02 13:27:00 WARN NativeCodeLoader: Unable to load native-hadoop library for your platform... using builtin-java classes where applicable\n"
     ]
    }
   ],
   "source": [
    "spark = SparkSession.builder.master(\"local[*]\").appName(\"My Spark Application\").getOrCreate()"
   ]
  },
  {
   "cell_type": "code",
   "execution_count": 6,
   "metadata": {},
   "outputs": [
    {
     "data": {
      "text/html": [
       "\n",
       "            <div>\n",
       "                <p><b>SparkSession - in-memory</b></p>\n",
       "                \n",
       "        <div>\n",
       "            <p><b>SparkContext</b></p>\n",
       "\n",
       "            <p><a href=\"http://Quantum:4040\">Spark UI</a></p>\n",
       "\n",
       "            <dl>\n",
       "              <dt>Version</dt>\n",
       "                <dd><code>v3.5.2</code></dd>\n",
       "              <dt>Master</dt>\n",
       "                <dd><code>local[*]</code></dd>\n",
       "              <dt>AppName</dt>\n",
       "                <dd><code>My Spark Application</code></dd>\n",
       "            </dl>\n",
       "        </div>\n",
       "        \n",
       "            </div>\n",
       "        "
      ],
      "text/plain": [
       "<pyspark.sql.session.SparkSession at 0x7f04de0c7dd0>"
      ]
     },
     "execution_count": 6,
     "metadata": {},
     "output_type": "execute_result"
    }
   ],
   "source": [
    "spark"
   ]
  },
  {
   "cell_type": "code",
   "execution_count": 18,
   "metadata": {},
   "outputs": [],
   "source": [
    "from pyspark.sql import Window\n",
    "from pyspark.sql.functions import avg"
   ]
  },
  {
   "cell_type": "code",
   "execution_count": 19,
   "metadata": {},
   "outputs": [],
   "source": [
    "# Инициализация SparkSession\n",
    "spark = SparkSession.builder.master(\"local[*]\").appName(\"Sales Data Analysis\").getOrCreate()"
   ]
  },
  {
   "cell_type": "code",
   "execution_count": 20,
   "metadata": {},
   "outputs": [
    {
     "name": "stdout",
     "output_type": "stream",
     "text": [
      "+----------+-----------+--------+-------+\n",
      "|      date|   category|quantity|revenue|\n",
      "+----------+-----------+--------+-------+\n",
      "|2023-11-20|Electronics|     100|  12000|\n",
      "|2023-11-21|Electronics|     110|  13000|\n",
      "|2023-11-22|Electronics|     105|  12500|\n",
      "|2023-11-20|   Clothing|     300|  15000|\n",
      "|2023-11-21|   Clothing|     280|  14000|\n",
      "|2023-11-22|   Clothing|     320|  16000|\n",
      "|2023-11-20|      Books|     150|   9000|\n",
      "|2023-11-21|      Books|     200|  12000|\n",
      "|2023-11-22|      Books|     180|  10000|\n",
      "+----------+-----------+--------+-------+\n",
      "\n",
      "+-----------+----------+----------+----------+\n",
      "|   category|2023-11-20|2023-11-21|2023-11-22|\n",
      "+-----------+----------+----------+----------+\n",
      "|      Books|    9000.0|   12000.0|   10000.0|\n",
      "|   Clothing|   15000.0|   14000.0|   16000.0|\n",
      "|Electronics|   12000.0|   13000.0|   12500.0|\n",
      "+-----------+----------+----------+----------+\n",
      "\n"
     ]
    }
   ],
   "source": [
    "# Данные о продажах\n",
    "sales_data = [\n",
    "    (\"2023-11-20\", \"Electronics\", 100, 12000),\n",
    "    (\"2023-11-21\", \"Electronics\", 110, 13000),\n",
    "    (\"2023-11-22\", \"Electronics\", 105, 12500),\n",
    "    (\"2023-11-20\", \"Clothing\", 300, 15000),\n",
    "    (\"2023-11-21\", \"Clothing\", 280, 14000),\n",
    "    (\"2023-11-22\", \"Clothing\", 320, 16000),\n",
    "    (\"2023-11-20\", \"Books\", 150, 9000),\n",
    "    (\"2023-11-21\", \"Books\", 200, 12000),\n",
    "    (\"2023-11-22\", \"Books\", 180, 10000)\n",
    "]\n",
    "\n",
    "# Создание DataFrame с данными о продажах\n",
    "sales_df = spark.createDataFrame(sales_data, [\"date\", \"category\", \"quantity\", \"revenue\"])\n",
    "\n",
    "# Преобразование данных с использованием pivot и вычисление средней выручки\n",
    "pivot_df = sales_df.groupBy(\"category\") \\\n",
    "                   .pivot(\"date\") \\\n",
    "                   .agg(avg(\"revenue\")) \\\n",
    "                   .orderBy(\"category\")\n",
    "\n",
    "# Вывод результата\n",
    "sales_df.show()\n",
    "pivot_df.show()"
   ]
  },
  {
   "cell_type": "code",
   "execution_count": 21,
   "metadata": {},
   "outputs": [],
   "source": [
    "# Завершение сеанса Spark\n",
    "spark.stop()"
   ]
  }
 ],
 "metadata": {
  "kernelspec": {
   "display_name": "Python 3 (ipykernel)",
   "language": "python",
   "name": "python3"
  },
  "language_info": {
   "codemirror_mode": {
    "name": "ipython",
    "version": 3
   },
   "file_extension": ".py",
   "mimetype": "text/x-python",
   "name": "python",
   "nbconvert_exporter": "python",
   "pygments_lexer": "ipython3",
   "version": "3.12.2"
  }
 },
 "nbformat": 4,
 "nbformat_minor": 2
}
